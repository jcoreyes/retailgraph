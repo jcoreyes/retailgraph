{
 "cells": [
  {
   "cell_type": "code",
   "execution_count": 52,
   "metadata": {
    "collapsed": false
   },
   "outputs": [],
   "source": [
    "import itertools\n",
    "import pandas\n",
    "import networkx\n",
    "import matplotlib.pyplot as pyplot\n",
    "\n",
    "# Fix for matplotlib w/ Python3\n",
    "#from cairocffi import *\n",
    "\n",
    "from numpy import abs,mean,isnan,sqrt"
   ]
  },
  {
   "cell_type": "code",
   "execution_count": 53,
   "metadata": {
    "collapsed": true
   },
   "outputs": [],
   "source": [
    "# Import our stationary data.\n",
    "data = pandas.read_csv('data/raw_data.csv')"
   ]
  },
  {
   "cell_type": "code",
   "execution_count": 60,
   "metadata": {
    "collapsed": false
   },
   "outputs": [],
   "source": [
    "# Calculate the distance metric between antennas and items as C * 1/counts\n",
    "data['dist'] = data['count'].map(lambda x: 1000.0 / x)\n",
    "\n",
    "# Filter out items that have a very large distance\n",
    "data = data[data['dist'] < 500]\n",
    "\n",
    "# Filter out weird items with serial number = 0\n",
    "data = data[data['serial_number'] != 0]\n",
    "\n",
    "# Get the set of antennas\n",
    "antennas = set(data['antenna_id'])\n",
    "\n",
    "# Create a map of items to data involving that item.\n",
    "items = set([(datum[0], datum[1]) for datum in data.values])\n",
    "item_data = {item: [] for item in items}\n",
    "\n",
    "for datum in data.values:\n",
    "    item = (datum[0], datum[1])\n",
    "    antn = datum[2]\n",
    "    dist = datum[4]\n",
    "    \n",
    "    item_data[item].append((antn, dist))"
   ]
  },
  {
   "cell_type": "code",
   "execution_count": 61,
   "metadata": {
    "collapsed": true
   },
   "outputs": [],
   "source": [
    "class PairMapper:\n",
    "    def __init__(self, antennas):\n",
    "        # All pairings of antennas\n",
    "        pairs = list(itertools.combinations(antennas, 2))\n",
    "        \n",
    "        # Each pairing has a list of minimum distances and maximum distances, and some distances to calculate later.\n",
    "        self.pair_data = { \n",
    "            pair: {\n",
    "                'min': [], \n",
    "                'max': [],\n",
    "                'count': 0,\n",
    "                'avg_min': None, \n",
    "                'avg_max': None,\n",
    "                'dist': None\n",
    "            } for pair in pairs }\n",
    "        \n",
    "        # Boolean for whether or not the proper averages are calculated\n",
    "        self.__averages_calculated = False\n",
    "        \n",
    "    def process(self, item_scans):\n",
    "        \"\"\"\n",
    "        Takes a list of tuples (antenna, distance) that report scans of a single item by multiple antennas.\n",
    "        This function finds all pairings of antennas from this list and contributes a single entry into the\n",
    "        min and max lists that are the difference and sum, respectively, of the two distances reported by the\n",
    "        pair of antennas.\n",
    "        \"\"\"\n",
    "        # Everytime we process new data, the averages must be recalculated\n",
    "        self.__averages_calculated = False\n",
    "        \n",
    "        num_scans = len(item_scans)\n",
    "        \n",
    "        for i in range(num_scans):\n",
    "            # First antenna\n",
    "            ant_x, dist_x = item_scans[i]\n",
    "            \n",
    "            # Each pairing of antenna\n",
    "            for j in range(i+1, num_scans):\n",
    "                ant_y, dist_y = item_scans[j]\n",
    "                \n",
    "                if ant_y == ant_x:\n",
    "                    print(item_scans)\n",
    "                \n",
    "                # Need to wrap this in a try-catch because the antennas might not be in the right order in the key.\n",
    "                try:\n",
    "                    # Add the min and max distances\n",
    "                    self.pair_data[(ant_x, ant_y)]['min'].append(abs(dist_x - dist_y))\n",
    "                    self.pair_data[(ant_x, ant_y)]['max'].append(dist_x + dist_y)\n",
    "                    self.pair_data[(ant_x, ant_y)]['count'] += 1\n",
    "                except KeyError:\n",
    "                    # Add the min and max distances\n",
    "                    self.pair_data[(ant_y, ant_x)]['min'].append(abs(dist_x - dist_y))\n",
    "                    self.pair_data[(ant_y, ant_x)]['max'].append(dist_x + dist_y)\n",
    "                    self.pair_data[(ant_y, ant_x)]['count'] += 1\n",
    "                    \n",
    "    def calculate_averages(self, min_count=0, max_variance=1):\n",
    "        \"\"\"\n",
    "        Params:\n",
    "            min_count \n",
    "                The minimum number of data_points that must have contributed to the distance we came up with. \n",
    "                This throws out data we are not too confident about.\n",
    "            max_variance \n",
    "                The most spread we will tolerate between avg_max and dist calculated as \n",
    "                    (avg_max - dist) / dist \n",
    "                This throws out very inaccurate data.\n",
    "        \"\"\"\n",
    "        # Don't recalculate if not needed\n",
    "        if self.__averages_calculated:\n",
    "            return self.__get_avg_data(min_count, max_variance)\n",
    "        \n",
    "        for pair in self.pair_data.keys():\n",
    "            mins = self.pair_data[pair]['min']\n",
    "            maxs = self.pair_data[pair]['max']\n",
    "            \n",
    "            # Some pairings have no data\n",
    "            if len(mins) == 0 or len(maxs) == 0:\n",
    "                continue\n",
    "            \n",
    "            avg_min = mean(mins)\n",
    "            avg_max = mean(maxs)\n",
    "            \n",
    "            self.pair_data[pair]['avg_min'] = avg_min\n",
    "            self.pair_data[pair]['avg_max'] = avg_max\n",
    "            \n",
    "            self.pair_data[pair]['dist'] = mean([avg_min, avg_max])\n",
    "            \n",
    "            # We just calculated the averages\n",
    "            self.__averages_calculated = True\n",
    "            \n",
    "        # Return the averages\n",
    "        return self.__get_avg_data(min_count, max_variance)\n",
    "            \n",
    "    def get_distances(self):\n",
    "        return [(pair, pair_dict['dist']) for (pair, pair_dict) in self.pair_data.items()]\n",
    "    \n",
    "    def __get_avg_data(self, min_count, max_variance):\n",
    "        return [\n",
    "            (pair, pair_dict['avg_min'], pair_dict['avg_max'], pair_dict['dist']) \n",
    "            \n",
    "            for (pair, pair_dict) in self.pair_data.items()\n",
    "            \n",
    "            # Filter out pairs with too few counts.\n",
    "            if \n",
    "                pair_dict['count'] >= min_count\n",
    "            and\n",
    "                (abs(pair_dict['avg_max'] - pair_dict['dist']) / pair_dict['dist']) < max_variance\n",
    "        ]"
   ]
  },
  {
   "cell_type": "code",
   "execution_count": 62,
   "metadata": {
    "collapsed": false
   },
   "outputs": [],
   "source": [
    "# Create an instance of a pair mapper\n",
    "mapper = PairMapper(antennas)\n",
    "\n",
    "# Process each item's data\n",
    "for (item, item_scans) in item_data.items():\n",
    "    mapper.process(item_scans)"
   ]
  },
  {
   "cell_type": "code",
   "execution_count": 63,
   "metadata": {
    "collapsed": false
   },
   "outputs": [],
   "source": [
    "# Calculate the average distances.\n",
    "pair_dists = pandas.DataFrame(mapper.calculate_averages(min_count=15, max_variance=0.3), columns=['antenna_pair', 'avg_min', 'avg_max', 'avg_dist'])\n",
    "\n",
    "# Filter out pairings with no data (the numbers are NaN and NaN != NaN)\n",
    "pair_dists = pair_dists[pair_dists['avg_dist'] == pair_dists['avg_dist']]\n",
    "\n",
    "#pair_dists"
   ]
  },
  {
   "cell_type": "code",
   "execution_count": 64,
   "metadata": {
    "collapsed": false
   },
   "outputs": [],
   "source": [
    "g = networkx.Graph()\n",
    "g.add_nodes_from(antennas)\n",
    "\n",
    "edges = [(edge[0][0], edge[0][1], edge[3]) for edge in pair_dists.values]\n",
    "g.add_weighted_edges_from(edges)"
   ]
  },
  {
   "cell_type": "code",
   "execution_count": null,
   "metadata": {
    "collapsed": false
   },
   "outputs": [],
   "source": [
    "readers = [int(num/100) for num in antennas]\n",
    "\n",
    "pos = networkx.graphviz_layout(g, prog='neato')\n",
    "networkx.draw_networkx_nodes(g, pos, nodelist=antennas, node_color=readers, node_size=800, alpha=0.8, cmap=pyplot.cm.Blues)\n",
    "#networkx.draw_networkx_edges(g, pos, width=1,alpha=0.5)\n",
    "labels = {x:x for x in antennas}\n",
    "networkx.draw_networkx_labels(g,pos,labels,font_size=12)\n",
    "\n",
    "pyplot.axis('off')\n",
    "pyplot.show()"
   ]
  },
  {
   "cell_type": "code",
   "execution_count": null,
   "metadata": {
    "collapsed": true
   },
   "outputs": [],
   "source": []
  }
 ],
 "metadata": {
  "kernelspec": {
   "display_name": "Python 2",
   "language": "python",
   "name": "python2"
  },
  "language_info": {
   "codemirror_mode": {
    "name": "ipython",
    "version": 2
   },
   "file_extension": ".py",
   "mimetype": "text/x-python",
   "name": "python",
   "nbconvert_exporter": "python",
   "pygments_lexer": "ipython2",
   "version": "2.7.9"
  }
 },
 "nbformat": 4,
 "nbformat_minor": 0
}
