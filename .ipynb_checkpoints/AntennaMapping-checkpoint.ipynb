{
 "cells": [
  {
   "cell_type": "code",
   "execution_count": 1,
   "metadata": {
    "collapsed": true
   },
   "outputs": [],
   "source": [
    "import pandas\n",
    "\n",
    "# Import our stationary data.\n",
    "data = pandas.read_csv('data/raw_data.csv')"
   ]
  },
  {
   "cell_type": "code",
   "execution_count": null,
   "metadata": {
    "collapsed": true
   },
   "outputs": [],
   "source": [
    "# Calculate the distance metric between antennas and items as C * 1/counts\n",
    "data['dist'] = data['count'].map(lambda x: 1000.0 / x)\n",
    "\n",
    "# Create a map of items to data involving that item.\n",
    "items = set([(datum[0], datum[1]) for datum in data.values])\n",
    "item_data = {item: {'antn': [], 'dist': []} for item in items}\n",
    "\n",
    "for datum in data.values:\n",
    "    item = (datum[0], datum[1])\n",
    "    antn = datum[2]\n",
    "    dist = datum[4]\n",
    "    \n",
    "    item_data[item]['antn'].append(antn)\n",
    "    item_data[ietm]['dist'].append(dist)"
   ]
  }
 ],
 "metadata": {
  "kernelspec": {
   "display_name": "Python 3",
   "language": "python",
   "name": "python3"
  },
  "language_info": {
   "codemirror_mode": {
    "name": "ipython",
    "version": 3
   },
   "file_extension": ".py",
   "mimetype": "text/x-python",
   "name": "python",
   "nbconvert_exporter": "python",
   "pygments_lexer": "ipython3",
   "version": "3.4.3"
  }
 },
 "nbformat": 4,
 "nbformat_minor": 0
}
